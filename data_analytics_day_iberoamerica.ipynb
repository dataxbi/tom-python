{
 "metadata": {
  "language_info": {
   "codemirror_mode": {
    "name": "ipython",
    "version": 3
   },
   "file_extension": ".py",
   "mimetype": "text/x-python",
   "name": "python",
   "nbconvert_exporter": "python",
   "pygments_lexer": "ipython3",
   "version": "3.7.5-final"
  },
  "orig_nbformat": 2,
  "kernelspec": {
   "name": "python3",
   "display_name": "Python 3.7.5 64-bit ('.venv')",
   "metadata": {
    "interpreter": {
     "hash": "31dc1f372cfac356882bb195821b283a54c175adc4b811c5377b62bd4d238d1c"
    }
   }
  }
 },
 "nbformat": 4,
 "nbformat_minor": 2,
 "cells": [
  {
   "cell_type": "code",
   "execution_count": null,
   "metadata": {},
   "outputs": [],
   "source": [
    "import os\n",
    "\n",
    "print(os.environ['PBI_SERVER'])\n",
    "print(os.environ['PBI_DB'])"
   ]
  },
  {
   "cell_type": "code",
   "execution_count": null,
   "metadata": {},
   "outputs": [],
   "source": [
    "import ssas_api as powerbi\n",
    "\n",
    "powerbi.load_libraries()"
   ]
  },
  {
   "cell_type": "code",
   "execution_count": null,
   "metadata": {},
   "outputs": [],
   "source": [
    "powerbi_server = os.environ['PBI_SERVER']\n",
    "powerbi_db_name = os.environ['PBI_DB']\n",
    "\n",
    "conn = \"Provider=MSOLAP;Data Source=\" + powerbi_server + \";Initial Catalog='';\"\n",
    "print(conn)\n"
   ]
  },
  {
   "cell_type": "code",
   "execution_count": null,
   "metadata": {},
   "outputs": [],
   "source": [
    "import System\n",
    "import Microsoft.AnalysisServices.Tabular as tom\n",
    "\n",
    "tom_server = tom.Server()\n",
    "tom_server.Connect(conn)\n",
    "\n",
    "for item in tom_server.Databases:\n",
    "    print(\"Database: \", item.Name)\n",
    "    print(\"Compatibility Level: \", item.CompatibilityLevel) \n",
    "    print(\"Created: \", item.CreatedTimestamp)\n",
    "    print()\n",
    "\n",
    "tom_database = tom_server.Databases[powerbi_db_name]\n"
   ]
  },
  {
   "cell_type": "code",
   "execution_count": null,
   "metadata": {},
   "outputs": [],
   "source": [
    "import pandas as pd\n",
    "\n",
    "def map_column(column):\n",
    "    return {\n",
    "        'Tabla': column.Table.Name,\n",
    "        'Nombre': column.Name,\n",
    "        'Llave': column.IsKey,\n",
    "        'Oculta': column.IsHidden\n",
    "    }\n",
    "\n",
    "columns =  [map_column(column) for table in tom_database.Model.Tables for column in table.Columns]  \n",
    "df_columns = pd.DataFrame(columns)\n",
    "display(df_columns)\n"
   ]
  },
  {
   "cell_type": "code",
   "execution_count": null,
   "metadata": {},
   "outputs": [],
   "source": [
    "import pandas as pd\n",
    "from System import Enum\n",
    "\n",
    "def map_measure(measure):\n",
    "    return {\n",
    "        'Tabla': measure.Table.Name,\n",
    "        'Carpeta': measure.DisplayFolder,\n",
    "        'Nombre': measure.Name,\n",
    "        'Oculta': measure.IsHidden,\n",
    "        'Implicita':measure.IsSimpleMeasure,\n",
    "        'FechaModificacion':measure.ModifiedTime,\n",
    "        'TipoDato': Enum.GetName(tom.DataType,measure.DataType),\n",
    "        'Formato': measure.FormatString,\n",
    "        'Expresion': measure.Expression\n",
    "    }\n",
    "\n",
    "measures = [map_measure(measure) for table in tom_database.Model.Tables for measure in table.Measures]\n",
    "df_measures = pd.DataFrame(measures)\n",
    "display(df_measures)\n"
   ]
  },
  {
   "cell_type": "code",
   "execution_count": null,
   "metadata": {},
   "outputs": [],
   "source": [
    "display(df_measures[df_measures['Nombre'].str.startswith('Net')])\n",
    "display(df_measures[df_measures['Nombre'].str.contains('Sales')])\n",
    "display(df_measures[df_measures['Oculta']])"
   ]
  },
  {
   "cell_type": "code",
   "execution_count": null,
   "metadata": {},
   "outputs": [],
   "source": [
    "with pd.ExcelWriter('./powerbi_tom.xlsx') as writer:  \n",
    "    df_columns.to_excel(writer, sheet_name='Columnas', index=False)\n",
    "    df_measures.to_excel(writer, sheet_name='Medidas', index=False)"
   ]
  },
  {
   "cell_type": "code",
   "execution_count": null,
   "metadata": {},
   "outputs": [],
   "source": [
    "tom_measures_net = [measure for table in tom_database.Model.Tables for measure in table.Measures if measure.Name.startswith('Net')]\n",
    "display(tom_measures_net)"
   ]
  },
  {
   "cell_type": "code",
   "execution_count": null,
   "metadata": {},
   "outputs": [],
   "source": [
    "display([(measure.Name,measure.DisplayFolder) for measure in tom_measures_net])"
   ]
  },
  {
   "cell_type": "code",
   "execution_count": null,
   "metadata": {},
   "outputs": [],
   "source": [
    "tom_measures = [measure for table in tom_database.Model.Tables for measure in table.Measures]\n",
    "measure_tablular_editor = [(measure.Name, annotation.Name,annotation.Value) for measure in tom_measures for annotation in measure.Annotations if annotation.Name == 'Creada con' and annotation.Value == 'Tabular Editor']\n",
    "display(measure_tablular_editor)"
   ]
  },
  {
   "cell_type": "code",
   "execution_count": null,
   "metadata": {},
   "outputs": [],
   "source": [
    "for measure in tom_measures_net:\n",
    "    measure.DisplayFolder = 'Net'\n",
    "\n",
    "display([(measure.Name,measure.DisplayFolder)  for measure in tom_measures_net])"
   ]
  },
  {
   "cell_type": "code",
   "execution_count": null,
   "metadata": {},
   "outputs": [],
   "source": [
    "tom_database.Model.SaveChanges()"
   ]
  },
  {
   "cell_type": "code",
   "execution_count": null,
   "metadata": {},
   "outputs": [],
   "source": [
    "\n",
    "tom_server.Refresh(True)\n",
    "\n",
    "tom_measures = [measure for table in tom_database.Model.Tables for measure in table.Measures if measure.Name in ['Returns']]\n",
    "display(len(tom_measures))\n",
    "\n",
    "tom_table = tom_database.Model.Tables.Find('Analysis DAX')\n",
    "display(tom_table)\n",
    "\n",
    "for measure in tom_measures:\n",
    "    new_measure = tom.Measure()\n",
    "\n",
    "    new_measure.Name = f'{measure.Name} YTD'\n",
    "    new_measure.Expression = f\"TOTALYTD ( [{measure.Name}], 'Calendar'[Date] )\"\n",
    "    new_measure.DisplayFolder = measure.DisplayFolder\n",
    "    new_measure.Description = f'Calcula {measure.Name} desde el inicio del año'\n",
    "\n",
    "    measure.Table.Measures.Add(new_measure)\n",
    "\n",
    "    display(f'La medida \"{new_measure.Name}\" se añadió a la tabla \"{new_measure.Table.Name}\"\" y a la carpeta \"{new_measure.DisplayFolder}\"\"')\n",
    "\n",
    "tom_database.Model.SaveChanges() \n"
   ]
  },
  {
   "cell_type": "code",
   "execution_count": null,
   "metadata": {},
   "outputs": [],
   "source": [
    "display(df_measures)"
   ]
  },
  {
   "cell_type": "code",
   "execution_count": null,
   "metadata": {},
   "outputs": [],
   "source": [
    "    \n",
    "df_measures['ref'] = df_measures['Nombre'].apply(lambda x: list(df_measures[df_measures['Expresion'].str.contains('[' + x +']', regex=False)]['Nombre']))\n",
    "display(df_measures)\n",
    "\n"
   ]
  },
  {
   "cell_type": "code",
   "execution_count": null,
   "metadata": {},
   "outputs": [],
   "source": [
    "import networkx as nx\n",
    "\n",
    "G = nx.DiGraph()\n",
    "G.add_nodes_from(list(df_measures['Nombre']))\n",
    "\n",
    "for _,measure in df_measures.iterrows():\n",
    "    edges = [(measure_ref,measure['Nombre']) for measure_ref in measure['ref']]\n",
    "    if len(edges) > 0:\n",
    "        G.add_edges_from(edges)\n",
    "\n",
    "nx.draw(G, with_labels=True)"
   ]
  },
  {
   "cell_type": "code",
   "execution_count": null,
   "metadata": {},
   "outputs": [],
   "source": [
    "measure_to_search = 'Returns Variance %'\n",
    "measure_to_search = 'Net Sales PM'\n",
    "# measure_to_search = 'Net Sales'\n",
    "\n",
    "MG = nx.DiGraph()\n",
    "MG.add_edges_from(G.in_edges(measure_to_search))\n",
    "MG.add_edges_from(G.out_edges(measure_to_search))\n",
    "nx.draw(MG, with_labels=True)"
   ]
  },
  {
   "cell_type": "code",
   "execution_count": null,
   "metadata": {},
   "outputs": [],
   "source": [
    "graph = []\n",
    "for _,measure in df_measures.iterrows():\n",
    "    edges = [(measure_ref, measure['Nombre']) for measure_ref in measure['ref']]\n",
    "    graph.extend(edges)\n",
    "\n",
    "df_graph = pd.DataFrame(graph,columns=['Nodo Fuente','Nodo Destino'])\n",
    "df_graph.to_csv('./Grafo de Medidas.csv', index=False)\n"
   ]
  }
 ]
}