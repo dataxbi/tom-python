{
 "metadata": {
  "language_info": {
   "codemirror_mode": {
    "name": "ipython",
    "version": 3
   },
   "file_extension": ".py",
   "mimetype": "text/x-python",
   "name": "python",
   "nbconvert_exporter": "python",
   "pygments_lexer": "ipython3",
   "version": "3.7.5-final"
  },
  "orig_nbformat": 2,
  "kernelspec": {
   "name": "python3",
   "display_name": "Python 3",
   "language": "python"
  }
 },
 "nbformat": 4,
 "nbformat_minor": 2,
 "cells": [
  {
   "cell_type": "code",
   "execution_count": 1,
   "metadata": {},
   "outputs": [
    {
     "output_type": "stream",
     "name": "stderr",
     "text": [
      ".Net assemblies not loaded and imported, doing so now...\n",
      "Database:  Adventure Works Internet Sales\n",
      "Compatibility Level:  1200\n",
      "Created:  11/04/2016 23:30:34\n",
      "\n"
     ]
    }
   ],
   "source": [
    "import ssas_api as powerbi\n",
    "\n",
    "powerbi.load_libraries()\n",
    "\n",
    "import Microsoft.AnalysisServices.Tabular as tom\n",
    "\n",
    "DATA_SOURCE = 'NELSONLOPEZ3582\\\\MSQL2019'\n",
    "USER_ID = 'NELSONLOPEZ3582\\\\NelsonAdmin'\n",
    "DATABASE_NAME = 'Adventure Works Internet Sales'\n",
    "\n",
    "conn = f'Provider=MSOLAP;Data Source={DATA_SOURCE};Initial Catalog=;Integrated Security=SSPI;Persist Security Info=false;User ID={USER_ID}'\n",
    "\n",
    "tom_server = tom.Server()\n",
    "tom_server.Connect(conn)\n",
    "tom_database = tom_server.Databases[DATABASE_NAME]\n",
    "\n",
    "for item in tom_server.Databases:\n",
    "    print(\"Database: \", item.Name)\n",
    "    print(\"Compatibility Level: \", item.CompatibilityLevel) \n",
    "    print(\"Created: \", item.CreatedTimestamp)\n",
    "    print()\n",
    "\n",
    "\n"
   ]
  },
  {
   "cell_type": "code",
   "execution_count": 7,
   "metadata": {},
   "outputs": [
    {
     "output_type": "execute_result",
     "data": {
      "text/plain": [
       "<Microsoft.AnalysisServices.Tabular.ModelOperationResult object at 0x0000019AA6509208>"
      ]
     },
     "metadata": {},
     "execution_count": 7
    }
   ],
   "source": [
    "tom_server.Refresh(True)\n",
    "\n",
    "table = tom_database.Model.Tables.Find('Customer')\n",
    "\n",
    "annotation = table.Annotations.Find('Prueba')\n",
    "\n",
    "if annotation is not None:\n",
    "    table.Annotations.Remove(annotation)\n",
    "\n",
    "# new_annotation = tom.Annotation()\n",
    "# new_annotation.Name = 'Prueba'\n",
    "# new_annotation.Value = 'Test'\n",
    "\n",
    "# print(len(table.Annotations))\n",
    "# print(new_annotation)\n",
    "\n",
    "# table.Annotations.Add(new_annotation)\n",
    "# print(len(table.Annotations))\n",
    "\n",
    "tom_database.Model.SaveChanges()"
   ]
  }
 ]
}