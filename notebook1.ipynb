{
 "metadata": {
  "language_info": {
   "codemirror_mode": {
    "name": "ipython",
    "version": 3
   },
   "file_extension": ".py",
   "mimetype": "text/x-python",
   "name": "python",
   "nbconvert_exporter": "python",
   "pygments_lexer": "ipython3",
   "version": "3.7.5-final"
  },
  "orig_nbformat": 2,
  "kernelspec": {
   "name": "python3",
   "display_name": "Python 3.7.5 64-bit ('.venv')",
   "metadata": {
    "interpreter": {
     "hash": "31dc1f372cfac356882bb195821b283a54c175adc4b811c5377b62bd4d238d1c"
    }
   }
  }
 },
 "nbformat": 4,
 "nbformat_minor": 2,
 "cells": [
  {
   "cell_type": "code",
   "execution_count": 1,
   "metadata": {},
   "outputs": [
    {
     "output_type": "stream",
     "name": "stderr",
     "text": [
      ".Net assemblies not loaded and imported, doing so now...\n",
      "Database:  cc7fea70-bcb5-4728-bd88-439e66208487\n",
      "Compatibility Level:  1520\n",
      "Created:  27/09/2019 19:48:58\n",
      "\n"
     ]
    }
   ],
   "source": [
    "'''\n",
    "Instalar la última versión de AMO (https://docs.microsoft.com/en-us/analysis-services/client-libraries?view=azure-analysis-services-current)\n",
    "'''\n",
    "\n",
    "import ssas_api as powerbi\n",
    "\n",
    "powerbi.load_libraries()\n",
    "\n",
    "import Microsoft.AnalysisServices.Tabular as tom\n",
    "\n",
    "powerbi_server = os.environ['PBI_SERVER']\n",
    "powerbi_db_name = os.environ['PBI_DB']\n",
    "\n",
    "conn = \"Provider=MSOLAP;Data Source=\" + powerbi_server + \";Initial Catalog='';\"\n",
    "\n",
    "tom_server = tom.Server()\n",
    "tom_server.Connect(conn)\n",
    "tom_database = tom_server.Databases[powerbi_db_name]\n",
    "\n",
    "for item in tom_server.Databases:\n",
    "    print(\"Database: \", item.Name)\n",
    "    print(\"Compatibility Level: \", item.CompatibilityLevel) \n",
    "    print(\"Created: \", item.CreatedTimestamp)\n",
    "    print()\n",
    "\n"
   ]
  },
  {
   "cell_type": "code",
   "execution_count": 3,
   "metadata": {},
   "outputs": [
    {
     "output_type": "execute_result",
     "data": {
      "text/plain": [
       "<Microsoft.AnalysisServices.Tabular.ModelOperationResult object at 0x0000018ABBE4B9C8>"
      ]
     },
     "metadata": {},
     "execution_count": 3
    }
   ],
   "source": [
    "tom_server.Refresh(True)\n",
    "\n",
    "column = tom_database.Model.Tables.Find('Product').Columns.Find('Price')\n",
    "\n",
    "new_measure = tom.Measure()\n",
    "\n",
    "new_measure.Name = column.Name\n",
    "column.Name = f'_{column.Name}'\n",
    "new_measure.Expression = f\"SUM('{column.Table.Name}'[{column.Name}])\"\n",
    "new_measure.DisplayFolder = column.DisplayFolder\n",
    "new_measure.Description = f'Suma de {column.Name}'\n",
    "\n",
    "new_annotation = tom.Annotation()\n",
    "new_annotation.Name = 'Creada con'\n",
    "new_annotation.Value = 'Python'\n",
    "new_measure.Annotations.Add(new_annotation)\n",
    "\n",
    "column.Table.Measures.Add(new_measure)\n",
    "\n",
    "column.IsHidden = True\n",
    "\n",
    "tom_database.Model.SaveChanges() \n",
    "\n",
    "\n",
    "# tom_measures = [measure for table in tom_database.Model.Tables for measure in table.Measures if measure.Name in ['Returns']]\n",
    "# display(len(tom_measures))\n",
    "\n",
    "# tom_table = tom_database.Model.Tables.Find('Analysis DAX')\n",
    "# display(tom_table)\n",
    "\n",
    "# for measure in tom_measures:\n",
    "#     new_measure = tom.Measure()\n",
    "\n",
    "#     new_measure.Name = f'{measure.Name} YTD'\n",
    "#     new_measure.Expression = f\"TOTALYTD ( [{measure.Name}], 'Calendar'[Date] )\"\n",
    "#     new_measure.DisplayFolder = measure.DisplayFolder\n",
    "#     new_measure.Description = f'Calcula {measure.Name} desde el inicio del año'\n",
    "\n",
    "#     measure.Table.Measures.Add(new_measure)\n",
    "\n",
    "#     display(f'La medida \"{new_measure.Name}\" se añadió a la tabla \"{new_measure.Table.Name}\"\" y a la carpeta \"{new_measure.DisplayFolder}\"\"')\n",
    "\n",
    "# tom_database.Model.SaveChanges() "
   ]
  },
  {
   "cell_type": "code",
   "execution_count": null,
   "metadata": {},
   "outputs": [],
   "source": [
    "table = tom_database.Model.Tables.Find('Product')\n",
    "\n",
    "new_annotation = tom.Annotation()\n",
    "new_annotation.Name = 'Creada con'\n",
    "new_annotation.Value = 'Python'\n",
    "table.Annotations.Add(new_annotation)\n",
    "\n",
    "tom_database.Model.SaveChanges() "
   ]
  }
 ]
}